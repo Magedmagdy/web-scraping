{
  "nbformat": 4,
  "nbformat_minor": 0,
  "metadata": {
    "colab": {
      "provenance": []
    },
    "kernelspec": {
      "name": "python3",
      "display_name": "Python 3"
    },
    "language_info": {
      "name": "python"
    }
  },
  "cells": [
    {
      "cell_type": "code",
      "execution_count": null,
      "metadata": {
        "id": "T4NQ3XLf-uIT"
      },
      "outputs": [],
      "source": [
        "pip install bs4"
      ]
    },
    {
      "cell_type": "code",
      "source": [
        "pip install requests"
      ],
      "metadata": {
        "id": "HSbezuIU--RO"
      },
      "execution_count": null,
      "outputs": []
    },
    {
      "cell_type": "code",
      "source": [
        "import requests\n",
        "from bs4 import BeautifulSoup as bs\n",
        "import pandas as pd\n",
        "url='https://wuzzuf.net/search/jobs/?q=data+analysis&a=navbl'\n",
        "\n",
        "job_titles,companies,locations,experience_needs,Qualifications,career_levels,Work_locations,links=[],[],[],[],[],[],[],[]\n",
        "response=requests.get(url)\n",
        "soup=bs(response.content,'html.parser')\n",
        "soup"
      ],
      "metadata": {
        "id": "q6L4mruX_EOY"
      },
      "execution_count": null,
      "outputs": []
    },
    {
      "cell_type": "code",
      "source": [
        "containers=soup.find_all('div',{'class':'css-1gatmva e1v1l3u10'})\n",
        "len(containers)"
      ],
      "metadata": {
        "colab": {
          "base_uri": "https://localhost:8080/"
        },
        "id": "mmijhcvtAA0_",
        "outputId": "fc09b04c-b97d-49f7-fdcd-b60d93a3e443"
      },
      "execution_count": null,
      "outputs": [
        {
          "output_type": "execute_result",
          "data": {
            "text/plain": [
              "15"
            ]
          },
          "metadata": {},
          "execution_count": 44
        }
      ]
    },
    {
      "cell_type": "code",
      "source": [
        "for container in containers:\n",
        "  Job_title=container.find('h2',{'class':'css-m604qf'})\n",
        "  job_titles.append(Job_title.text)\n",
        "\n",
        "  Company=container.find('a',{'class':'css-17s97q8'})\n",
        "  companies.append(Company.text)\n",
        "\n",
        "  Location=container.find('span',{'class':'css-5wys0k'})\n",
        "  locations.append(Location.text)\n",
        "\n",
        "  Experience=container.find('a',{'class':'css-n2jc4m'})\n",
        "  experience_needs.append(Experience.text)\n",
        "\n",
        "  Qualification=container.find('div',{'class':'css-y4udm8'})\n",
        "  Qualifications.append(Qualification.text)\n",
        "\n",
        "  Work_location=container.find('span',{'class':'css-o1vzmt eoyjyou0'})\n",
        "  print(Work_location.text)\n",
        "  Work_locations.append(Work_location.text)\n",
        "\n",
        "  link=container.find('a',{'class':'css-o171kl'})\n",
        "  links.append(link.get('href'))\n",
        "\n",
        "  career_level=container.find_all('a',{'class':'css-o171kl'})\n",
        "  career_levels.append(career_level[1].text)"
      ],
      "metadata": {
        "id": "zAwicBb4_O2Z"
      },
      "execution_count": null,
      "outputs": []
    },
    {
      "cell_type": "code",
      "source": [
        "df=pd.DataFrame({'Job Title':job_titles,'Company':companies,'Location':locations,'Experience':experience_needs,'Qualification':Qualifications,'Career Level':career_levels,'Work Location':Work_locations,'Link':links})\n",
        "df"
      ],
      "metadata": {
        "id": "Sb3CLmy6Dzv5"
      },
      "execution_count": null,
      "outputs": []
    },
    {
      "cell_type": "code",
      "source": [
        "df.to_csv('jobs.csv')\n",
        "print('Done')"
      ],
      "metadata": {
        "id": "-hn8GucDNGzy"
      },
      "execution_count": null,
      "outputs": []
    },
    {
      "cell_type": "markdown",
      "source": [
        "**Get all jobs from number of pages will be entered by user**"
      ],
      "metadata": {
        "id": "YL9uZ50vPJMD"
      }
    },
    {
      "cell_type": "code",
      "source": [
        "import requests\n",
        "from bs4 import BeautifulSoup as bs\n",
        "import pandas as pd\n",
        "\n",
        "\n",
        "job_titles,companies,locations,experience_needs,Qualifications,career_levels,Work_locations,links=[],[],[],[],[],[],[],[]\n",
        "\n",
        "#-----------------------------------------------------------------------------------------------------------------------------------\n",
        "containers=soup.find_all('div',{'class':'css-1gatmva e1v1l3u10'})\n",
        "#-----------------------------------------------------------------------------------------------------------------------------------\n",
        "number_of_pages=int(input('Enter number of pages: '))\n",
        "for i in range(number_of_pages):\n",
        "  url=f'https://wuzzuf.net/search/jobs/?a=navbl&q=data%20analysis&start={i}'\n",
        "  response=requests.get(url)\n",
        "  soup=bs(response.content,'html.parser')\n",
        "  for container in containers:\n",
        "    Job_title=container.find('h2',{'class':'css-m604qf'})\n",
        "    job_titles.append(Job_title.text)\n",
        "\n",
        "    Company=container.find('a',{'class':'css-17s97q8'})\n",
        "    companies.append(Company.text)\n",
        "\n",
        "    Location=container.find('span',{'class':'css-5wys0k'})\n",
        "    locations.append(Location.text)\n",
        "\n",
        "    Experience=container.find('a',{'class':'css-n2jc4m'})\n",
        "    experience_needs.append(Experience.text)\n",
        "\n",
        "    Qualification=container.find('div',{'class':'css-y4udm8'})\n",
        "    Qualifications.append(Qualification.text)\n",
        "\n",
        "    Work_location=container.find('span',{'class':'css-o1vzmt eoyjyou0'})\n",
        "    if Work_location is None:\n",
        "      Work_locations.append('None')\n",
        "    else:\n",
        "      Work_locations.append(Work_location.text)\n",
        "\n",
        "    link=container.find('a',{'class':'css-o171kl'})\n",
        "    links.append(link.get('href'))\n",
        "\n",
        "    career_level=container.find_all('a',{'class':'css-o171kl'})\n",
        "    career_levels.append(career_level[1].text)\n",
        "\n",
        "df=pd.DataFrame({'Job Title':job_titles,'Company':companies,'Location':locations,'Experience':experience_needs,'Qualification':Qualifications,'Career Level':career_levels,'Work Location':Work_locations,'Link':links})\n",
        "df.to_csv('Wuzuuf_jobs.csv')\n",
        "print('Done')"
      ],
      "metadata": {
        "colab": {
          "base_uri": "https://localhost:8080/"
        },
        "id": "ux7YXMtUNtA4",
        "outputId": "2023f392-cd65-4202-e3a5-a65d496c3452"
      },
      "execution_count": null,
      "outputs": [
        {
          "output_type": "stream",
          "name": "stdout",
          "text": [
            "Enter number of pages: 20\n",
            "Done\n"
          ]
        }
      ]
    },
    {
      "cell_type": "markdown",
      "source": [
        "**Get All jobs based on search job**"
      ],
      "metadata": {
        "id": "bfYTA8dwPTKV"
      }
    },
    {
      "cell_type": "code",
      "source": [
        "import requests\n",
        "from bs4 import BeautifulSoup as bs\n",
        "import pandas as pd\n",
        "import urllib.parse\n",
        "\n",
        "job=input('Enter job: ')\n",
        "job=urllib.parse.quote(job)\n",
        "\n",
        "\n",
        "job_titles,companies,locations,experience_needs,Qualifications,career_levels,Work_locations,links=[],[],[],[],[],[],[],[]\n",
        "\n",
        "#-----------------------------------------------------------------------------------------------------------------------------------\n",
        "containers=soup.find_all('div',{'class':'css-1gatmva e1v1l3u10'})\n",
        "#-----------------------------------------------------------------------------------------------------------------------------------\n",
        "number_of_pages=int(input('Enter number of pages: '))\n",
        "for i in range(number_of_pages):\n",
        "  url=f'https://wuzzuf.net/search/jobs/?a=navbl&q={job}&start={i}'\n",
        "  response=requests.get(url)\n",
        "  soup=bs(response.content,'html.parser')\n",
        "  for container in containers:\n",
        "    Job_title=container.find('h2',{'class':'css-m604qf'})\n",
        "    job_titles.append(Job_title.text)\n",
        "\n",
        "    Company=container.find('a',{'class':'css-17s97q8'})\n",
        "    companies.append(Company.text)\n",
        "\n",
        "    Location=container.find('span',{'class':'css-5wys0k'})\n",
        "    locations.append(Location.text)\n",
        "\n",
        "    Experience=container.find('a',{'class':'css-n2jc4m'})\n",
        "    experience_needs.append(Experience.text)\n",
        "\n",
        "    Qualification=container.find('div',{'class':'css-y4udm8'})\n",
        "    Qualifications.append(Qualification.text)\n",
        "\n",
        "    Work_location=container.find('span',{'class':'css-o1vzmt eoyjyou0'})\n",
        "    if Work_location is None:\n",
        "      Work_locations.append('None')\n",
        "    else:\n",
        "      Work_locations.append(Work_location.text)\n",
        "\n",
        "    link=container.find('a',{'class':'css-o171kl'})\n",
        "    links.append(link.get('href'))\n",
        "\n",
        "    career_level=container.find_all('a',{'class':'css-o171kl'})\n",
        "    career_levels.append(career_level[1].text)\n",
        "\n",
        "df=pd.DataFrame({'Job Title':job_titles,'Company':companies,'Location':locations,'Experience':experience_needs,'Qualification':Qualifications,'Career Level':career_levels,'Work Location':Work_locations,'Link':links})\n",
        "df.to_csv('Wuzuuf_jobs.csv')\n",
        "print('Done')"
      ],
      "metadata": {
        "colab": {
          "base_uri": "https://localhost:8080/"
        },
        "id": "j3ep_SWdPX1F",
        "outputId": "50bae2cc-91df-44a9-d5a1-3609ff2929a3"
      },
      "execution_count": null,
      "outputs": [
        {
          "output_type": "stream",
          "name": "stdout",
          "text": [
            "Enter job: odoo developer\n",
            "Enter number of pages: 5\n",
            "Done\n"
          ]
        }
      ]
    }
  ]
}